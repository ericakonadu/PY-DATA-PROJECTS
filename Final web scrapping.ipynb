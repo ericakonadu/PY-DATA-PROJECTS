{
 "cells": [
  {
   "cell_type": "code",
   "execution_count": 1,
   "id": "df7f9cbc",
   "metadata": {},
   "outputs": [],
   "source": [
    "from selenium import webdriver\n",
    "from selenium.webdriver.common.by import By\n",
    "import math\n",
    "import pandas as pd"
   ]
  },
  {
   "cell_type": "code",
   "execution_count": 2,
   "id": "194f25e1",
   "metadata": {},
   "outputs": [],
   "source": [
    "url = 'https://www.yarnplaza.com/'\n",
    "\n",
    "url1 = url\n",
    "url2 = url"
   ]
  },
  {
   "cell_type": "code",
   "execution_count": 6,
   "id": "7233f90c",
   "metadata": {},
   "outputs": [],
   "source": [
    "driver = webdriver.Chrome()\n",
    "driver.get(url)"
   ]
  },
  {
   "cell_type": "code",
   "execution_count": 7,
   "id": "963dd42d",
   "metadata": {},
   "outputs": [],
   "source": [
    "product_search = driver.find_element(By.ID,'searchSooqrTop')\n",
    "product_search.click()\n",
    "DMC = product_search.send_keys('DMC Natura XL')"
   ]
  },
  {
   "cell_type": "code",
   "execution_count": 13,
   "id": "1ef039c4",
   "metadata": {},
   "outputs": [],
   "source": [
    "DMC_product_page = driver.find_element(By.XPATH, '//h3/a[@title=\"DMC Natura XL\"]')\n",
    "DMC_product_page.click()"
   ]
  },
  {
   "cell_type": "code",
   "execution_count": 17,
   "id": "af2fef8d",
   "metadata": {},
   "outputs": [
    {
     "data": {
      "text/plain": [
       "'€9'"
      ]
     },
     "execution_count": 17,
     "metadata": {},
     "output_type": "execute_result"
    }
   ],
   "source": [
    "DMC_product_name = driver.find_element(By.XPATH, '//*[@id=\"pageheadertitle\"]')\n",
    "DMC_currency = driver.find_element(By.XPATH,'//*[@id=\"ContentPlaceHolder1_upPricePanel\"]/span/span[1]')\n",
    "DMC_Natura_currency = DMC_currency.text\n",
    "DMC_Natura_XL_price = driver.find_element(By.XPATH,'//*[@id=\"ContentPlaceHolder1_upPricePanel\"]/span/span[2]')\n",
    "DMC_price = DMC_Natura_XL_price.text\n",
    "new_DMC_price = DMC_price.replace(\",\", \".\")\n",
    "DMC_rounded = math.ceil(float(new_DMC_price))\n",
    "DMC_final_price = DMC_Natura_currency + str(DMC_rounded)\n",
    "DMC_final_price"
   ]
  },
  {
   "cell_type": "code",
   "execution_count": 24,
   "id": "49ca84d5",
   "metadata": {},
   "outputs": [],
   "source": [
    "DMC_Natura_XL_brand = driver.find_element(By.XPATH,'//*[@id=\"pdetailTableSpecs\"]/table/tbody/tr[17]/td[2]/a/span/span')\n",
    "DMC_Natura_XL_composition = driver.find_element(By.XPATH,'//*[@id=\"pdetailTableSpecs\"]/table/tbody/tr[4]/td[2]')\n",
    "DMC_Natura_XL_needle_size = driver.find_element(By.XPATH,'//*[@id=\"pdetailTableSpecs\"]/table/tbody/tr[5]/td[2]')\n",
    "DMC_Natura_XL_needle_size = driver.find_element(By.XPATH,'//*[@id=\"pdetailTableSpecs\"]/table/tbody/tr[5]/td[2]')\n",
    "DMC_Natura_XL_delivery = driver.find_element(By.XPATH,'//*[@id=\"form1\"]/div[11]/div/ul/li[4]')"
   ]
  },
  {
   "cell_type": "code",
   "execution_count": 25,
   "id": "6bf32f4d",
   "metadata": {},
   "outputs": [
    {
     "data": {
      "text/plain": [
       "'Worldwide/international shipping'"
      ]
     },
     "execution_count": 25,
     "metadata": {},
     "output_type": "execute_result"
    }
   ],
   "source": [
    "DMC_product_name.text\n",
    "DMC_Natura_XL_brand.text\n",
    "DMC_Natura_XL_composition.text\n",
    "DMC_Natura_XL_needle_size.text\n",
    "DMC_Natura_XL_delivery.text"
   ]
  },
  {
   "cell_type": "code",
   "execution_count": 27,
   "id": "40404ddb",
   "metadata": {},
   "outputs": [
    {
     "data": {
      "text/html": [
       "<div>\n",
       "<style scoped>\n",
       "    .dataframe tbody tr th:only-of-type {\n",
       "        vertical-align: middle;\n",
       "    }\n",
       "\n",
       "    .dataframe tbody tr th {\n",
       "        vertical-align: top;\n",
       "    }\n",
       "\n",
       "    .dataframe thead th {\n",
       "        text-align: right;\n",
       "    }\n",
       "</style>\n",
       "<table border=\"1\" class=\"dataframe\">\n",
       "  <thead>\n",
       "    <tr style=\"text-align: right;\">\n",
       "      <th></th>\n",
       "      <th>Brand</th>\n",
       "      <th>Product Name</th>\n",
       "      <th>Price</th>\n",
       "      <th>Composition</th>\n",
       "      <th>Neddle size</th>\n",
       "      <th>Delivery</th>\n",
       "    </tr>\n",
       "  </thead>\n",
       "  <tbody>\n",
       "    <tr>\n",
       "      <th>0</th>\n",
       "      <td>DMC</td>\n",
       "      <td>DMC Natura XL 02 Black</td>\n",
       "      <td>€9</td>\n",
       "      <td>100% Cotton</td>\n",
       "      <td>8 mm</td>\n",
       "      <td>Worldwide/international shipping</td>\n",
       "    </tr>\n",
       "  </tbody>\n",
       "</table>\n",
       "</div>"
      ],
      "text/plain": [
       "  Brand            Product Name Price  Composition Neddle size  \\\n",
       "0   DMC  DMC Natura XL 02 Black    €9  100% Cotton        8 mm   \n",
       "\n",
       "                           Delivery  \n",
       "0  Worldwide/international shipping  "
      ]
     },
     "execution_count": 27,
     "metadata": {},
     "output_type": "execute_result"
    }
   ],
   "source": [
    "df = pd.DataFrame({\"Brand\": [DMC_Natura_XL_brand.text],\"Product Name\": [DMC_product_name.text],\"Price\": [DMC_final_price],\"Composition\": [DMC_Natura_XL_composition.text],         \"Neddle size\": [DMC_Natura_XL_needle_size.text],\"Delivery\": [DMC_Natura_XL_delivery.text]})\n",
    "df"
   ]
  },
  {
   "cell_type": "markdown",
   "id": "92328e78",
   "metadata": {},
   "source": [
    "##### SAFRAN"
   ]
  },
  {
   "cell_type": "code",
   "execution_count": 85,
   "id": "41bcd521",
   "metadata": {},
   "outputs": [],
   "source": [
    "driver.get(url)\n",
    "product_search = driver.find_element(By.ID, 'searchSooqrTop')\n",
    "product_search.click()\n",
    "Drops = product_search.send_keys('Drops Safran')"
   ]
  },
  {
   "cell_type": "code",
   "execution_count": 86,
   "id": "8887cc48",
   "metadata": {
    "collapsed": true
   },
   "outputs": [
    {
     "ename": "NoSuchElementException",
     "evalue": "Message: no such element: Unable to locate element: {\"method\":\"xpath\",\"selector\":\"//*[@id=\"sooqrView1ed85d54e833cd8d\"]/div[4]/div/div[2]/div/div/div[1]/h3/a\"}\n  (Session info: chrome=100.0.4896.75)\nStacktrace:\nBacktrace:\n\tOrdinal0 [0x010E9943+2595139]\n\tOrdinal0 [0x0107C9F1+2148849]\n\tOrdinal0 [0x00F74528+1066280]\n\tOrdinal0 [0x00FA0FD4+1249236]\n\tOrdinal0 [0x00FA11CB+1249739]\n\tOrdinal0 [0x00FCD812+1431570]\n\tOrdinal0 [0x00FBBA34+1358388]\n\tOrdinal0 [0x00FCBAF2+1424114]\n\tOrdinal0 [0x00FBB806+1357830]\n\tOrdinal0 [0x00F96086+1204358]\n\tOrdinal0 [0x00F96F96+1208214]\n\tGetHandleVerifier [0x0128B232+1658114]\n\tGetHandleVerifier [0x0134312C+2411516]\n\tGetHandleVerifier [0x0117F261+560433]\n\tGetHandleVerifier [0x0117E366+556598]\n\tOrdinal0 [0x0108286B+2173035]\n\tOrdinal0 [0x010875F8+2192888]\n\tOrdinal0 [0x010876E5+2193125]\n\tOrdinal0 [0x010911FC+2232828]\n\tBaseThreadInitThunk [0x77006359+25]\n\tRtlGetAppContainerNamedObjectPath [0x77DC87A4+228]\n\tRtlGetAppContainerNamedObjectPath [0x77DC8774+180]\n",
     "output_type": "error",
     "traceback": [
      "\u001b[1;31m---------------------------------------------------------------------------\u001b[0m",
      "\u001b[1;31mNoSuchElementException\u001b[0m                    Traceback (most recent call last)",
      "\u001b[1;32mC:\\Users\\ERICAK~1\\AppData\\Local\\Temp/ipykernel_4392/4100790650.py\u001b[0m in \u001b[0;36m<module>\u001b[1;34m\u001b[0m\n\u001b[1;32m----> 1\u001b[1;33m \u001b[0mDrops_product_page\u001b[0m \u001b[1;33m=\u001b[0m \u001b[0mdriver\u001b[0m\u001b[1;33m.\u001b[0m\u001b[0mfind_element\u001b[0m\u001b[1;33m(\u001b[0m\u001b[0mBy\u001b[0m\u001b[1;33m.\u001b[0m\u001b[0mXPATH\u001b[0m\u001b[1;33m,\u001b[0m \u001b[1;34m'//*[@id=\"sooqrView1ed85d54e833cd8d\"]/div[4]/div/div[2]/div/div/div[1]/h3/a'\u001b[0m\u001b[1;33m)\u001b[0m\u001b[1;33m\u001b[0m\u001b[1;33m\u001b[0m\u001b[0m\n\u001b[0m\u001b[0;32m      2\u001b[0m \u001b[0mDrops_product_page\u001b[0m\u001b[1;33m.\u001b[0m\u001b[0mclick\u001b[0m\u001b[1;33m(\u001b[0m\u001b[1;33m)\u001b[0m\u001b[1;33m\u001b[0m\u001b[1;33m\u001b[0m\u001b[0m\n",
      "\u001b[1;32m~\\anaconda3\\lib\\site-packages\\selenium\\webdriver\\remote\\webdriver.py\u001b[0m in \u001b[0;36mfind_element\u001b[1;34m(self, by, value)\u001b[0m\n\u001b[0;32m   1246\u001b[0m             \u001b[0mvalue\u001b[0m \u001b[1;33m=\u001b[0m \u001b[1;34m'[name=\"%s\"]'\u001b[0m \u001b[1;33m%\u001b[0m \u001b[0mvalue\u001b[0m\u001b[1;33m\u001b[0m\u001b[1;33m\u001b[0m\u001b[0m\n\u001b[0;32m   1247\u001b[0m \u001b[1;33m\u001b[0m\u001b[0m\n\u001b[1;32m-> 1248\u001b[1;33m         return self.execute(Command.FIND_ELEMENT, {\n\u001b[0m\u001b[0;32m   1249\u001b[0m             \u001b[1;34m'using'\u001b[0m\u001b[1;33m:\u001b[0m \u001b[0mby\u001b[0m\u001b[1;33m,\u001b[0m\u001b[1;33m\u001b[0m\u001b[1;33m\u001b[0m\u001b[0m\n\u001b[0;32m   1250\u001b[0m             'value': value})['value']\n",
      "\u001b[1;32m~\\anaconda3\\lib\\site-packages\\selenium\\webdriver\\remote\\webdriver.py\u001b[0m in \u001b[0;36mexecute\u001b[1;34m(self, driver_command, params)\u001b[0m\n\u001b[0;32m    423\u001b[0m         \u001b[0mresponse\u001b[0m \u001b[1;33m=\u001b[0m \u001b[0mself\u001b[0m\u001b[1;33m.\u001b[0m\u001b[0mcommand_executor\u001b[0m\u001b[1;33m.\u001b[0m\u001b[0mexecute\u001b[0m\u001b[1;33m(\u001b[0m\u001b[0mdriver_command\u001b[0m\u001b[1;33m,\u001b[0m \u001b[0mparams\u001b[0m\u001b[1;33m)\u001b[0m\u001b[1;33m\u001b[0m\u001b[1;33m\u001b[0m\u001b[0m\n\u001b[0;32m    424\u001b[0m         \u001b[1;32mif\u001b[0m \u001b[0mresponse\u001b[0m\u001b[1;33m:\u001b[0m\u001b[1;33m\u001b[0m\u001b[1;33m\u001b[0m\u001b[0m\n\u001b[1;32m--> 425\u001b[1;33m             \u001b[0mself\u001b[0m\u001b[1;33m.\u001b[0m\u001b[0merror_handler\u001b[0m\u001b[1;33m.\u001b[0m\u001b[0mcheck_response\u001b[0m\u001b[1;33m(\u001b[0m\u001b[0mresponse\u001b[0m\u001b[1;33m)\u001b[0m\u001b[1;33m\u001b[0m\u001b[1;33m\u001b[0m\u001b[0m\n\u001b[0m\u001b[0;32m    426\u001b[0m             response['value'] = self._unwrap_value(\n\u001b[0;32m    427\u001b[0m                 response.get('value', None))\n",
      "\u001b[1;32m~\\anaconda3\\lib\\site-packages\\selenium\\webdriver\\remote\\errorhandler.py\u001b[0m in \u001b[0;36mcheck_response\u001b[1;34m(self, response)\u001b[0m\n\u001b[0;32m    245\u001b[0m                 \u001b[0malert_text\u001b[0m \u001b[1;33m=\u001b[0m \u001b[0mvalue\u001b[0m\u001b[1;33m[\u001b[0m\u001b[1;34m'alert'\u001b[0m\u001b[1;33m]\u001b[0m\u001b[1;33m.\u001b[0m\u001b[0mget\u001b[0m\u001b[1;33m(\u001b[0m\u001b[1;34m'text'\u001b[0m\u001b[1;33m)\u001b[0m\u001b[1;33m\u001b[0m\u001b[1;33m\u001b[0m\u001b[0m\n\u001b[0;32m    246\u001b[0m             \u001b[1;32mraise\u001b[0m \u001b[0mexception_class\u001b[0m\u001b[1;33m(\u001b[0m\u001b[0mmessage\u001b[0m\u001b[1;33m,\u001b[0m \u001b[0mscreen\u001b[0m\u001b[1;33m,\u001b[0m \u001b[0mstacktrace\u001b[0m\u001b[1;33m,\u001b[0m \u001b[0malert_text\u001b[0m\u001b[1;33m)\u001b[0m  \u001b[1;31m# type: ignore[call-arg]  # mypy is not smart enough here\u001b[0m\u001b[1;33m\u001b[0m\u001b[1;33m\u001b[0m\u001b[0m\n\u001b[1;32m--> 247\u001b[1;33m         \u001b[1;32mraise\u001b[0m \u001b[0mexception_class\u001b[0m\u001b[1;33m(\u001b[0m\u001b[0mmessage\u001b[0m\u001b[1;33m,\u001b[0m \u001b[0mscreen\u001b[0m\u001b[1;33m,\u001b[0m \u001b[0mstacktrace\u001b[0m\u001b[1;33m)\u001b[0m\u001b[1;33m\u001b[0m\u001b[1;33m\u001b[0m\u001b[0m\n\u001b[0m\u001b[0;32m    248\u001b[0m \u001b[1;33m\u001b[0m\u001b[0m\n\u001b[0;32m    249\u001b[0m     \u001b[1;32mdef\u001b[0m \u001b[0m_value_or_default\u001b[0m\u001b[1;33m(\u001b[0m\u001b[0mself\u001b[0m\u001b[1;33m,\u001b[0m \u001b[0mobj\u001b[0m\u001b[1;33m:\u001b[0m \u001b[0mMapping\u001b[0m\u001b[1;33m[\u001b[0m\u001b[0m_KT\u001b[0m\u001b[1;33m,\u001b[0m \u001b[0m_VT\u001b[0m\u001b[1;33m]\u001b[0m\u001b[1;33m,\u001b[0m \u001b[0mkey\u001b[0m\u001b[1;33m:\u001b[0m \u001b[0m_KT\u001b[0m\u001b[1;33m,\u001b[0m \u001b[0mdefault\u001b[0m\u001b[1;33m:\u001b[0m \u001b[0m_VT\u001b[0m\u001b[1;33m)\u001b[0m \u001b[1;33m->\u001b[0m \u001b[0m_VT\u001b[0m\u001b[1;33m:\u001b[0m\u001b[1;33m\u001b[0m\u001b[1;33m\u001b[0m\u001b[0m\n",
      "\u001b[1;31mNoSuchElementException\u001b[0m: Message: no such element: Unable to locate element: {\"method\":\"xpath\",\"selector\":\"//*[@id=\"sooqrView1ed85d54e833cd8d\"]/div[4]/div/div[2]/div/div/div[1]/h3/a\"}\n  (Session info: chrome=100.0.4896.75)\nStacktrace:\nBacktrace:\n\tOrdinal0 [0x010E9943+2595139]\n\tOrdinal0 [0x0107C9F1+2148849]\n\tOrdinal0 [0x00F74528+1066280]\n\tOrdinal0 [0x00FA0FD4+1249236]\n\tOrdinal0 [0x00FA11CB+1249739]\n\tOrdinal0 [0x00FCD812+1431570]\n\tOrdinal0 [0x00FBBA34+1358388]\n\tOrdinal0 [0x00FCBAF2+1424114]\n\tOrdinal0 [0x00FBB806+1357830]\n\tOrdinal0 [0x00F96086+1204358]\n\tOrdinal0 [0x00F96F96+1208214]\n\tGetHandleVerifier [0x0128B232+1658114]\n\tGetHandleVerifier [0x0134312C+2411516]\n\tGetHandleVerifier [0x0117F261+560433]\n\tGetHandleVerifier [0x0117E366+556598]\n\tOrdinal0 [0x0108286B+2173035]\n\tOrdinal0 [0x010875F8+2192888]\n\tOrdinal0 [0x010876E5+2193125]\n\tOrdinal0 [0x010911FC+2232828]\n\tBaseThreadInitThunk [0x77006359+25]\n\tRtlGetAppContainerNamedObjectPath [0x77DC87A4+228]\n\tRtlGetAppContainerNamedObjectPath [0x77DC8774+180]\n"
     ]
    }
   ],
   "source": [
    "Drops_product_page = driver.find_element(By.XPATH, '//*[@id=\"sooqrView1ed85d54e833cd8d\"]/div[4]/div/div[2]/div/div/div[1]/h3/a')\n",
    "Drops_product_page.click()"
   ]
  },
  {
   "cell_type": "code",
   "execution_count": 34,
   "id": "c5c411a1",
   "metadata": {},
   "outputs": [
    {
     "data": {
      "text/plain": [
       "'Drops Safran 60 Moss Green'"
      ]
     },
     "execution_count": 34,
     "metadata": {},
     "output_type": "execute_result"
    }
   ],
   "source": [
    "Drops_product_name = driver.find_element(By.XPATH,'//*[@id=\"pageheadertitle\"]')\n",
    "Drops_product_name.text"
   ]
  },
  {
   "cell_type": "code",
   "execution_count": 35,
   "id": "586e0eb3",
   "metadata": {},
   "outputs": [
    {
     "data": {
      "text/plain": [
       "'Drops'"
      ]
     },
     "execution_count": 35,
     "metadata": {},
     "output_type": "execute_result"
    }
   ],
   "source": [
    "Drops_Safran_brand = driver.find_element(By.XPATH, '//*[@id=\"pdetailTableSpecs\"]/table/tbody/tr[15]/td[2]/a/span/span')\n",
    "Drops_Safran_brand.text"
   ]
  },
  {
   "cell_type": "code",
   "execution_count": 39,
   "id": "ea1309d2",
   "metadata": {},
   "outputs": [
    {
     "data": {
      "text/plain": [
       "'€2'"
      ]
     },
     "execution_count": 39,
     "metadata": {},
     "output_type": "execute_result"
    }
   ],
   "source": [
    "Drops_currency = driver.find_element(By.XPATH, '//*[@id=\"ContentPlaceHolder1_upPricePanel\"]/span/span[1]')\n",
    "Drops_Safran_currency = Drops_currency.text\n",
    "Drops_Safran_price = driver.find_element(By.XPATH,'//*[@id=\"ContentPlaceHolder1_upPricePanel\"]/span/span[2]')\n",
    "Drops_price = Drops_Safran_price.text\n",
    "new_Drops_price = Drops_price.replace(\",\", \".\")\n",
    "Drops_rounded = math.ceil(float(new_Drops_price))\n",
    "Drops_final_price = Drops_Safran_currency + str(Drops_rounded)\n",
    "Drops_final_price"
   ]
  },
  {
   "cell_type": "code",
   "execution_count": 78,
   "id": "7d31a954",
   "metadata": {},
   "outputs": [],
   "source": [
    "Drops_Safran_composition = driver.find_element(By.XPATH, '/html/body/div[1]/div[4]/div/form/div[16]/div/div/div[2]/table/tbody/tr[4]/td[2]')\n",
    "Drops_Safran_composition.text\n"
   ]
  },
  {
   "cell_type": "code",
   "execution_count": 47,
   "id": "cde97208",
   "metadata": {},
   "outputs": [
    {
     "data": {
      "text/plain": [
       "'3 mm'"
      ]
     },
     "execution_count": 47,
     "metadata": {},
     "output_type": "execute_result"
    }
   ],
   "source": [
    "Drops_Safran_needle_size = driver.find_element(By.XPATH,'//*[@id=\"pdetailTableSpecs\"]/table/tbody/tr[5]/td[2]')\n",
    "Drops_Safran_needle_size.text"
   ]
  },
  {
   "cell_type": "code",
   "execution_count": 48,
   "id": "64ca2f10",
   "metadata": {},
   "outputs": [
    {
     "data": {
      "text/plain": [
       "'Worldwide/international shipping'"
      ]
     },
     "execution_count": 48,
     "metadata": {},
     "output_type": "execute_result"
    }
   ],
   "source": [
    "Drops_Safran_delivery = driver.find_element(By.XPATH,'//*[@id=\"form1\"]/div[11]/div/ul/li[4]')\n",
    "Drops_Safran_delivery.text"
   ]
  },
  {
   "cell_type": "code",
   "execution_count": 84,
   "id": "5b8c7d4a",
   "metadata": {
    "collapsed": true
   },
   "outputs": [
    {
     "ename": "StaleElementReferenceException",
     "evalue": "Message: stale element reference: element is not attached to the page document\n  (Session info: chrome=100.0.4896.75)\nStacktrace:\nBacktrace:\n\tOrdinal0 [0x010E9943+2595139]\n\tOrdinal0 [0x0107C9F1+2148849]\n\tOrdinal0 [0x00F74528+1066280]\n\tOrdinal0 [0x00F76E04+1076740]\n\tOrdinal0 [0x00F76CBE+1076414]\n\tOrdinal0 [0x00F76F50+1077072]\n\tOrdinal0 [0x00F9C920+1231136]\n\tOrdinal0 [0x00FBB9EC+1358316]\n\tOrdinal0 [0x00F97474+1209460]\n\tOrdinal0 [0x00FBBC04+1358852]\n\tOrdinal0 [0x00FCBAF2+1424114]\n\tOrdinal0 [0x00FBB806+1357830]\n\tOrdinal0 [0x00F96086+1204358]\n\tOrdinal0 [0x00F96F96+1208214]\n\tGetHandleVerifier [0x0128B232+1658114]\n\tGetHandleVerifier [0x0134312C+2411516]\n\tGetHandleVerifier [0x0117F261+560433]\n\tGetHandleVerifier [0x0117E366+556598]\n\tOrdinal0 [0x0108286B+2173035]\n\tOrdinal0 [0x010875F8+2192888]\n\tOrdinal0 [0x010876E5+2193125]\n\tOrdinal0 [0x010911FC+2232828]\n\tBaseThreadInitThunk [0x77006359+25]\n\tRtlGetAppContainerNamedObjectPath [0x77DC87A4+228]\n\tRtlGetAppContainerNamedObjectPath [0x77DC8774+180]\n",
     "output_type": "error",
     "traceback": [
      "\u001b[1;31m---------------------------------------------------------------------------\u001b[0m",
      "\u001b[1;31mStaleElementReferenceException\u001b[0m            Traceback (most recent call last)",
      "\u001b[1;32mC:\\Users\\ERICAK~1\\AppData\\Local\\Temp/ipykernel_4392/2025949634.py\u001b[0m in \u001b[0;36m<module>\u001b[1;34m\u001b[0m\n\u001b[1;32m----> 1\u001b[1;33m df1 = pd.DataFrame({\"Brand\": [Drops_Safran_brand.text],\"Product Name\": [Drops_product_name.text],\"Price\": [Drops_final_price],       \"Neddle size\": [Drops_Safran_needle_size.text],\"Delivery\": [Drops_Safran_delivery.text]\n\u001b[0m\u001b[0;32m      2\u001b[0m })\n\u001b[0;32m      3\u001b[0m \u001b[0mdf1\u001b[0m\u001b[1;33m\u001b[0m\u001b[1;33m\u001b[0m\u001b[0m\n",
      "\u001b[1;32m~\\anaconda3\\lib\\site-packages\\selenium\\webdriver\\remote\\webelement.py\u001b[0m in \u001b[0;36mtext\u001b[1;34m(self)\u001b[0m\n\u001b[0;32m     75\u001b[0m     \u001b[1;32mdef\u001b[0m \u001b[0mtext\u001b[0m\u001b[1;33m(\u001b[0m\u001b[0mself\u001b[0m\u001b[1;33m)\u001b[0m \u001b[1;33m->\u001b[0m \u001b[0mstr\u001b[0m\u001b[1;33m:\u001b[0m\u001b[1;33m\u001b[0m\u001b[1;33m\u001b[0m\u001b[0m\n\u001b[0;32m     76\u001b[0m         \u001b[1;34m\"\"\"The text of the element.\"\"\"\u001b[0m\u001b[1;33m\u001b[0m\u001b[1;33m\u001b[0m\u001b[0m\n\u001b[1;32m---> 77\u001b[1;33m         \u001b[1;32mreturn\u001b[0m \u001b[0mself\u001b[0m\u001b[1;33m.\u001b[0m\u001b[0m_execute\u001b[0m\u001b[1;33m(\u001b[0m\u001b[0mCommand\u001b[0m\u001b[1;33m.\u001b[0m\u001b[0mGET_ELEMENT_TEXT\u001b[0m\u001b[1;33m)\u001b[0m\u001b[1;33m[\u001b[0m\u001b[1;34m'value'\u001b[0m\u001b[1;33m]\u001b[0m\u001b[1;33m\u001b[0m\u001b[1;33m\u001b[0m\u001b[0m\n\u001b[0m\u001b[0;32m     78\u001b[0m \u001b[1;33m\u001b[0m\u001b[0m\n\u001b[0;32m     79\u001b[0m     \u001b[1;32mdef\u001b[0m \u001b[0mclick\u001b[0m\u001b[1;33m(\u001b[0m\u001b[0mself\u001b[0m\u001b[1;33m)\u001b[0m \u001b[1;33m->\u001b[0m \u001b[1;32mNone\u001b[0m\u001b[1;33m:\u001b[0m\u001b[1;33m\u001b[0m\u001b[1;33m\u001b[0m\u001b[0m\n",
      "\u001b[1;32m~\\anaconda3\\lib\\site-packages\\selenium\\webdriver\\remote\\webelement.py\u001b[0m in \u001b[0;36m_execute\u001b[1;34m(self, command, params)\u001b[0m\n\u001b[0;32m    708\u001b[0m             \u001b[0mparams\u001b[0m \u001b[1;33m=\u001b[0m \u001b[1;33m{\u001b[0m\u001b[1;33m}\u001b[0m\u001b[1;33m\u001b[0m\u001b[1;33m\u001b[0m\u001b[0m\n\u001b[0;32m    709\u001b[0m         \u001b[0mparams\u001b[0m\u001b[1;33m[\u001b[0m\u001b[1;34m'id'\u001b[0m\u001b[1;33m]\u001b[0m \u001b[1;33m=\u001b[0m \u001b[0mself\u001b[0m\u001b[1;33m.\u001b[0m\u001b[0m_id\u001b[0m\u001b[1;33m\u001b[0m\u001b[1;33m\u001b[0m\u001b[0m\n\u001b[1;32m--> 710\u001b[1;33m         \u001b[1;32mreturn\u001b[0m \u001b[0mself\u001b[0m\u001b[1;33m.\u001b[0m\u001b[0m_parent\u001b[0m\u001b[1;33m.\u001b[0m\u001b[0mexecute\u001b[0m\u001b[1;33m(\u001b[0m\u001b[0mcommand\u001b[0m\u001b[1;33m,\u001b[0m \u001b[0mparams\u001b[0m\u001b[1;33m)\u001b[0m\u001b[1;33m\u001b[0m\u001b[1;33m\u001b[0m\u001b[0m\n\u001b[0m\u001b[0;32m    711\u001b[0m \u001b[1;33m\u001b[0m\u001b[0m\n\u001b[0;32m    712\u001b[0m     \u001b[1;32mdef\u001b[0m \u001b[0mfind_element\u001b[0m\u001b[1;33m(\u001b[0m\u001b[0mself\u001b[0m\u001b[1;33m,\u001b[0m \u001b[0mby\u001b[0m\u001b[1;33m=\u001b[0m\u001b[0mBy\u001b[0m\u001b[1;33m.\u001b[0m\u001b[0mID\u001b[0m\u001b[1;33m,\u001b[0m \u001b[0mvalue\u001b[0m\u001b[1;33m=\u001b[0m\u001b[1;32mNone\u001b[0m\u001b[1;33m)\u001b[0m\u001b[1;33m:\u001b[0m\u001b[1;33m\u001b[0m\u001b[1;33m\u001b[0m\u001b[0m\n",
      "\u001b[1;32m~\\anaconda3\\lib\\site-packages\\selenium\\webdriver\\remote\\webdriver.py\u001b[0m in \u001b[0;36mexecute\u001b[1;34m(self, driver_command, params)\u001b[0m\n\u001b[0;32m    423\u001b[0m         \u001b[0mresponse\u001b[0m \u001b[1;33m=\u001b[0m \u001b[0mself\u001b[0m\u001b[1;33m.\u001b[0m\u001b[0mcommand_executor\u001b[0m\u001b[1;33m.\u001b[0m\u001b[0mexecute\u001b[0m\u001b[1;33m(\u001b[0m\u001b[0mdriver_command\u001b[0m\u001b[1;33m,\u001b[0m \u001b[0mparams\u001b[0m\u001b[1;33m)\u001b[0m\u001b[1;33m\u001b[0m\u001b[1;33m\u001b[0m\u001b[0m\n\u001b[0;32m    424\u001b[0m         \u001b[1;32mif\u001b[0m \u001b[0mresponse\u001b[0m\u001b[1;33m:\u001b[0m\u001b[1;33m\u001b[0m\u001b[1;33m\u001b[0m\u001b[0m\n\u001b[1;32m--> 425\u001b[1;33m             \u001b[0mself\u001b[0m\u001b[1;33m.\u001b[0m\u001b[0merror_handler\u001b[0m\u001b[1;33m.\u001b[0m\u001b[0mcheck_response\u001b[0m\u001b[1;33m(\u001b[0m\u001b[0mresponse\u001b[0m\u001b[1;33m)\u001b[0m\u001b[1;33m\u001b[0m\u001b[1;33m\u001b[0m\u001b[0m\n\u001b[0m\u001b[0;32m    426\u001b[0m             response['value'] = self._unwrap_value(\n\u001b[0;32m    427\u001b[0m                 response.get('value', None))\n",
      "\u001b[1;32m~\\anaconda3\\lib\\site-packages\\selenium\\webdriver\\remote\\errorhandler.py\u001b[0m in \u001b[0;36mcheck_response\u001b[1;34m(self, response)\u001b[0m\n\u001b[0;32m    245\u001b[0m                 \u001b[0malert_text\u001b[0m \u001b[1;33m=\u001b[0m \u001b[0mvalue\u001b[0m\u001b[1;33m[\u001b[0m\u001b[1;34m'alert'\u001b[0m\u001b[1;33m]\u001b[0m\u001b[1;33m.\u001b[0m\u001b[0mget\u001b[0m\u001b[1;33m(\u001b[0m\u001b[1;34m'text'\u001b[0m\u001b[1;33m)\u001b[0m\u001b[1;33m\u001b[0m\u001b[1;33m\u001b[0m\u001b[0m\n\u001b[0;32m    246\u001b[0m             \u001b[1;32mraise\u001b[0m \u001b[0mexception_class\u001b[0m\u001b[1;33m(\u001b[0m\u001b[0mmessage\u001b[0m\u001b[1;33m,\u001b[0m \u001b[0mscreen\u001b[0m\u001b[1;33m,\u001b[0m \u001b[0mstacktrace\u001b[0m\u001b[1;33m,\u001b[0m \u001b[0malert_text\u001b[0m\u001b[1;33m)\u001b[0m  \u001b[1;31m# type: ignore[call-arg]  # mypy is not smart enough here\u001b[0m\u001b[1;33m\u001b[0m\u001b[1;33m\u001b[0m\u001b[0m\n\u001b[1;32m--> 247\u001b[1;33m         \u001b[1;32mraise\u001b[0m \u001b[0mexception_class\u001b[0m\u001b[1;33m(\u001b[0m\u001b[0mmessage\u001b[0m\u001b[1;33m,\u001b[0m \u001b[0mscreen\u001b[0m\u001b[1;33m,\u001b[0m \u001b[0mstacktrace\u001b[0m\u001b[1;33m)\u001b[0m\u001b[1;33m\u001b[0m\u001b[1;33m\u001b[0m\u001b[0m\n\u001b[0m\u001b[0;32m    248\u001b[0m \u001b[1;33m\u001b[0m\u001b[0m\n\u001b[0;32m    249\u001b[0m     \u001b[1;32mdef\u001b[0m \u001b[0m_value_or_default\u001b[0m\u001b[1;33m(\u001b[0m\u001b[0mself\u001b[0m\u001b[1;33m,\u001b[0m \u001b[0mobj\u001b[0m\u001b[1;33m:\u001b[0m \u001b[0mMapping\u001b[0m\u001b[1;33m[\u001b[0m\u001b[0m_KT\u001b[0m\u001b[1;33m,\u001b[0m \u001b[0m_VT\u001b[0m\u001b[1;33m]\u001b[0m\u001b[1;33m,\u001b[0m \u001b[0mkey\u001b[0m\u001b[1;33m:\u001b[0m \u001b[0m_KT\u001b[0m\u001b[1;33m,\u001b[0m \u001b[0mdefault\u001b[0m\u001b[1;33m:\u001b[0m \u001b[0m_VT\u001b[0m\u001b[1;33m)\u001b[0m \u001b[1;33m->\u001b[0m \u001b[0m_VT\u001b[0m\u001b[1;33m:\u001b[0m\u001b[1;33m\u001b[0m\u001b[1;33m\u001b[0m\u001b[0m\n",
      "\u001b[1;31mStaleElementReferenceException\u001b[0m: Message: stale element reference: element is not attached to the page document\n  (Session info: chrome=100.0.4896.75)\nStacktrace:\nBacktrace:\n\tOrdinal0 [0x010E9943+2595139]\n\tOrdinal0 [0x0107C9F1+2148849]\n\tOrdinal0 [0x00F74528+1066280]\n\tOrdinal0 [0x00F76E04+1076740]\n\tOrdinal0 [0x00F76CBE+1076414]\n\tOrdinal0 [0x00F76F50+1077072]\n\tOrdinal0 [0x00F9C920+1231136]\n\tOrdinal0 [0x00FBB9EC+1358316]\n\tOrdinal0 [0x00F97474+1209460]\n\tOrdinal0 [0x00FBBC04+1358852]\n\tOrdinal0 [0x00FCBAF2+1424114]\n\tOrdinal0 [0x00FBB806+1357830]\n\tOrdinal0 [0x00F96086+1204358]\n\tOrdinal0 [0x00F96F96+1208214]\n\tGetHandleVerifier [0x0128B232+1658114]\n\tGetHandleVerifier [0x0134312C+2411516]\n\tGetHandleVerifier [0x0117F261+560433]\n\tGetHandleVerifier [0x0117E366+556598]\n\tOrdinal0 [0x0108286B+2173035]\n\tOrdinal0 [0x010875F8+2192888]\n\tOrdinal0 [0x010876E5+2193125]\n\tOrdinal0 [0x010911FC+2232828]\n\tBaseThreadInitThunk [0x77006359+25]\n\tRtlGetAppContainerNamedObjectPath [0x77DC87A4+228]\n\tRtlGetAppContainerNamedObjectPath [0x77DC8774+180]\n"
     ]
    }
   ],
   "source": [
    "df1 = pd.DataFrame({\"Brand\": [Drops_Safran_brand.text],\"Product Name\": [Drops_product_name.text],\"Price\": [Drops_final_price],       \"Neddle size\": [Drops_Safran_needle_size.text],\"Delivery\": [Drops_Safran_delivery.text]\n",
    "})\n",
    "df1"
   ]
  },
  {
   "cell_type": "markdown",
   "id": "7587d646",
   "metadata": {},
   "source": [
    "#### STYLECRAFT"
   ]
  },
  {
   "cell_type": "code",
   "execution_count": 63,
   "id": "e8efe833",
   "metadata": {},
   "outputs": [],
   "source": [
    "driver.get(url)\n",
    "product_search = driver.find_element(By.ID, 'searchSooqrTop')\n",
    "product_search.click()\n",
    "Stylecraft = product_search.send_keys('Stylecraft Special dk')"
   ]
  },
  {
   "cell_type": "code",
   "execution_count": 65,
   "id": "6807ed3d",
   "metadata": {},
   "outputs": [],
   "source": [
    "Stylecraft_product_page = driver.find_element(By.XPATH,'//*[@id=\"sooqrView1ed85d54e833cd8d\"]/div[4]/div/div[2]/div[1]/div/div[1]/h3/a')\n",
    "Stylecraft_product_page.click()"
   ]
  },
  {
   "cell_type": "code",
   "execution_count": 66,
   "id": "db49f92a",
   "metadata": {},
   "outputs": [
    {
     "data": {
      "text/plain": [
       "'Stylecraft Special dk 1001 White'"
      ]
     },
     "execution_count": 66,
     "metadata": {},
     "output_type": "execute_result"
    }
   ],
   "source": [
    "Stylecraft_product_name = driver.find_element(By.XPATH,'//*[@id=\"pageheadertitle\"]')\n",
    "Stylecraft_product_name.text"
   ]
  },
  {
   "cell_type": "code",
   "execution_count": 67,
   "id": "e693c7cb",
   "metadata": {},
   "outputs": [
    {
     "data": {
      "text/plain": [
       "'Stylecraft'"
      ]
     },
     "execution_count": 67,
     "metadata": {},
     "output_type": "execute_result"
    }
   ],
   "source": [
    "Stylecraft_Special_brand = driver.find_element(By.XPATH, '//*[@id=\"pdetailTableSpecs\"]/table/tbody/tr[16]/td[2]/a/span/span')\n",
    "Stylecraft_Special_brand.text"
   ]
  },
  {
   "cell_type": "code",
   "execution_count": 68,
   "id": "f5f16068",
   "metadata": {},
   "outputs": [
    {
     "data": {
      "text/plain": [
       "'€3'"
      ]
     },
     "execution_count": 68,
     "metadata": {},
     "output_type": "execute_result"
    }
   ],
   "source": [
    "Stylecraft_currency = driver.find_element(By.XPATH,'//*[@id=\"ContentPlaceHolder1_upPricePanel\"]/span/span[1]')\n",
    "Stylecraft_Special_currency = Stylecraft_currency.text\n",
    "Stylecraft_Special_price = driver.find_element(By.XPATH,'//*[@id=\"ContentPlaceHolder1_upPricePanel\"]/span/span[2]')\n",
    "Stylecraft_price = Stylecraft_Special_price.text\n",
    "new_Stylecraft_price = Stylecraft_price.replace(\",\", \".\")\n",
    "Stylecraft_rounded = math.ceil(float(new_Stylecraft_price))\n",
    "Stylecraft_final_price = Stylecraft_Special_currency + str(Stylecraft_rounded)\n",
    "Stylecraft_final_price"
   ]
  },
  {
   "cell_type": "code",
   "execution_count": 69,
   "id": "a05c00e7",
   "metadata": {},
   "outputs": [
    {
     "data": {
      "text/plain": [
       "'100% Acrylic'"
      ]
     },
     "execution_count": 69,
     "metadata": {},
     "output_type": "execute_result"
    }
   ],
   "source": [
    "Stylecraft_Special_composition = driver.find_element(By.XPATH, '//*[@id=\"pdetailTableSpecs\"]/table/tbody/tr[3]/td[2]')\n",
    "Stylecraft_Special_composition.text"
   ]
  },
  {
   "cell_type": "code",
   "execution_count": 70,
   "id": "7fbec2c8",
   "metadata": {},
   "outputs": [
    {
     "data": {
      "text/plain": [
       "'4 mm'"
      ]
     },
     "execution_count": 70,
     "metadata": {},
     "output_type": "execute_result"
    }
   ],
   "source": [
    "Stylecraft_Special_needle_size = driver.find_element(By.XPATH,'//*[@id=\"pdetailTableSpecs\"]/table/tbody/tr[4]/td[2]')\n",
    "Stylecraft_Special_needle_size.text"
   ]
  },
  {
   "cell_type": "code",
   "execution_count": 73,
   "id": "07f6a77c",
   "metadata": {},
   "outputs": [
    {
     "data": {
      "text/plain": [
       "'Worldwide/international shipping'"
      ]
     },
     "execution_count": 73,
     "metadata": {},
     "output_type": "execute_result"
    }
   ],
   "source": [
    "Stylecraft_Special_delivery = driver.find_element(By.XPATH, '//*[@id=\"form1\"]/div[11]/div/ul/li[4]')\n",
    "Stylecraft_Special_delivery.text"
   ]
  },
  {
   "cell_type": "code",
   "execution_count": 74,
   "id": "63388531",
   "metadata": {},
   "outputs": [
    {
     "data": {
      "text/html": [
       "<div>\n",
       "<style scoped>\n",
       "    .dataframe tbody tr th:only-of-type {\n",
       "        vertical-align: middle;\n",
       "    }\n",
       "\n",
       "    .dataframe tbody tr th {\n",
       "        vertical-align: top;\n",
       "    }\n",
       "\n",
       "    .dataframe thead th {\n",
       "        text-align: right;\n",
       "    }\n",
       "</style>\n",
       "<table border=\"1\" class=\"dataframe\">\n",
       "  <thead>\n",
       "    <tr style=\"text-align: right;\">\n",
       "      <th></th>\n",
       "      <th>Brand</th>\n",
       "      <th>Product Name</th>\n",
       "      <th>Price</th>\n",
       "      <th>Composition</th>\n",
       "      <th>Neddle size</th>\n",
       "      <th>Delivery</th>\n",
       "    </tr>\n",
       "  </thead>\n",
       "  <tbody>\n",
       "    <tr>\n",
       "      <th>0</th>\n",
       "      <td>Stylecraft</td>\n",
       "      <td>Stylecraft Special dk 1001 White</td>\n",
       "      <td>€3</td>\n",
       "      <td>100% Acrylic</td>\n",
       "      <td>4 mm</td>\n",
       "      <td>Worldwide/international shipping</td>\n",
       "    </tr>\n",
       "  </tbody>\n",
       "</table>\n",
       "</div>"
      ],
      "text/plain": [
       "        Brand                      Product Name Price   Composition  \\\n",
       "0  Stylecraft  Stylecraft Special dk 1001 White    €3  100% Acrylic   \n",
       "\n",
       "  Neddle size                          Delivery  \n",
       "0        4 mm  Worldwide/international shipping  "
      ]
     },
     "execution_count": 74,
     "metadata": {},
     "output_type": "execute_result"
    }
   ],
   "source": [
    "df2 = pd.DataFrame({\"Brand\": [Stylecraft_Special_brand.text],\"Product Name\": [Stylecraft_product_name.text],\"Price\": [Stylecraft_final_price],\"Composition\": [Stylecraft_Special_composition.text],         \"Neddle size\": [Stylecraft_Special_needle_size.text],\"Delivery\": [Stylecraft_Special_delivery.text]})\n",
    "df2"
   ]
  },
  {
   "cell_type": "code",
   "execution_count": null,
   "id": "ac2f4ecf",
   "metadata": {},
   "outputs": [],
   "source": [
    "all_brands = [df, df1, df2]\n",
    "result = pd.concat(all_brands, ignore_index=True)\n",
    "result\n",
    "result.to_excel('yarn.csv')"
   ]
  },
  {
   "cell_type": "code",
   "execution_count": null,
   "id": "4b692d19",
   "metadata": {},
   "outputs": [],
   "source": []
  }
 ]
 "metadata": {
  "kernelspec": {
   "display_name": "Python 3 (ipykernel)",
   "language": "python",
   "name": "python3"
  },
  "language_info": {
   "codemirror_mode": {
    "name": "ipython",
    "version": 3
   },
   "file_extension": ".py",
   "mimetype": "text/x-python",
   "name": "python",
   "nbconvert_exporter": "python",
   "pygments_lexer": "ipython3",
   "version": "3.9.7"
  }
 },
 "nbformat": 4,
 "nbformat_minor": 5
}
